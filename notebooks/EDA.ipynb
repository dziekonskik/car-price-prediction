{
 "cells": [
  {
   "cell_type": "code",
   "execution_count": null,
   "metadata": {},
   "outputs": [
    {
     "name": "stdout",
     "output_type": "stream",
     "text": [
      "<class 'pandas.core.frame.DataFrame'>\n",
      "Index: 131824 entries, 0 to 135396\n",
      "Data columns (total 22 columns):\n",
      " #   Column                      Non-Null Count   Dtype  \n",
      "---  ------                      --------------   -----  \n",
      " 0   Cena                        131824 non-null  int64  \n",
      " 1   Stan                        128585 non-null  object \n",
      " 2   Marka_pojazdu               128542 non-null  object \n",
      " 3   Model_pojazdu               128619 non-null  object \n",
      " 4   Wersja_pojazdu              85085 non-null   object \n",
      " 5   Generacja_pojazdu           91339 non-null   object \n",
      " 6   Rok_produkcji               128510 non-null  float64\n",
      " 7   Przebieg_km                 127930 non-null  float64\n",
      " 8   Moc_KM                      128195 non-null  float64\n",
      " 9   Pojemnosc_cm3               127254 non-null  float64\n",
      " 10  Rodzaj_paliwa               128499 non-null  object \n",
      " 11  Emisja_CO2                  57939 non-null   float64\n",
      " 12  Naped                       119186 non-null  object \n",
      " 13  Skrzynia_biegow             128159 non-null  object \n",
      " 14  Typ_nadwozia                128531 non-null  object \n",
      " 15  Liczba_drzwi                127575 non-null  float64\n",
      " 16  Kolor                       128450 non-null  object \n",
      " 17  Kraj_pochodzenia            72994 non-null   object \n",
      " 18  Pierwszy_wlasciciel         39855 non-null   object \n",
      " 19  Data_pierwszej_rejestracji  53289 non-null   object \n",
      " 20  Lokalizacja_oferty          128579 non-null  object \n",
      " 21  Wyposazenie                 128672 non-null  object \n",
      "dtypes: float64(6), int64(1), object(15)\n",
      "memory usage: 23.1+ MB\n"
     ]
    }
   ],
   "source": [
    "import pandas as pd\n",
    "import seaborn as sns\n",
    "import matplotlib.pyplot as plt\n",
    "import numpy as np\n",
    "\n",
    "df = pd.read_csv(\"../data/sales_ads_train.csv\")\n",
    "\n",
    " # buduje listę ilośći aut w widełkach co 50k zeby zobaczyć gdzie nalezy oczyścić dane\n",
    "bins = list(range(0, int(df[\"Cena\"].max()) + 50000, 50000)) \n",
    "labels = [f\"{bins[i]}-{bins[i+1]}\" for i in range(len(bins)-1)]\n",
    "df[\"Widełki_cenowe\"] = pd.cut(df[\"Cena\"], bins=bins, labels=labels, include_lowest=True)\n",
    "widełki_count = df[\"Widełki_cenowe\"].value_counts().sort_index()\n",
    "\n",
    "# ucinam ceny do 1000 (38 ofert) i od 2 mln praktycznie brak ofert\n",
    "df_filtered = df[(df[\"Cena\"] >= 1000) & (df[\"Cena\"] <= 2000000)]\n",
    "\n",
    "# usuwam zbędne kolumny - \"Widełki_cenowe\", \"Data_publikacji_oferty\", \"ID\"\n",
    "df_filtered = df_filtered.drop(columns=[\"Widełki_cenowe\", \"Data_publikacji_oferty\", \"ID\"])\n",
    "\n",
    "# usuwam wieksze w których waluta != PLN oraz usuwam zbędną kolumnę\n",
    "df_filtered = df_filtered[df_filtered[\"Waluta\"] == \"PLN\"]\n",
    "df_filtered = df_filtered.drop(columns=[\"Waluta\"])\n",
    "\n",
    "df_filtered.info()\n",
    "\n"
   ]
  }
 ],
 "metadata": {
  "kernelspec": {
   "display_name": "venv",
   "language": "python",
   "name": "python3"
  },
  "language_info": {
   "codemirror_mode": {
    "name": "ipython",
    "version": 3
   },
   "file_extension": ".py",
   "mimetype": "text/x-python",
   "name": "python",
   "nbconvert_exporter": "python",
   "pygments_lexer": "ipython3",
   "version": "3.9.4"
  }
 },
 "nbformat": 4,
 "nbformat_minor": 2
}
