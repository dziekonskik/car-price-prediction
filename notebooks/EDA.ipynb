{
 "cells": [
  {
   "cell_type": "code",
   "execution_count": null,
   "metadata": {},
   "outputs": [
    {
     "data": {
      "text/plain": [
       "Segment_marki\n",
       "Średnie      59632\n",
       "Budżetowe    41701\n",
       "Premium      30491\n",
       "Name: count, dtype: int64"
      ]
     },
     "execution_count": 31,
     "metadata": {},
     "output_type": "execute_result"
    }
   ],
   "source": [
    "import pandas as pd\n",
    "import seaborn as sns\n",
    "import matplotlib.pyplot as plt\n",
    "import numpy as np\n",
    "from utils.categorize_brand import categorize_brand\n",
    "\n",
    "df = pd.read_csv(\"../data/sales_ads_train.csv\")\n",
    "\n",
    " # buduje listę ilośći aut w widełkach co 50k zeby zobaczyć gdzie nalezy oczyścić dane\n",
    "bins = list(range(0, int(df[\"Cena\"].max()) + 50000, 50000)) \n",
    "labels = [f\"{bins[i]}-{bins[i+1]}\" for i in range(len(bins)-1)]\n",
    "df[\"Widełki_cenowe\"] = pd.cut(df[\"Cena\"], bins=bins, labels=labels, include_lowest=True)\n",
    "widełki_count = df[\"Widełki_cenowe\"].value_counts().sort_index()\n",
    "\n",
    "# ucinam ceny do 1000 (38 ofert) i od 2 mln praktycznie brak ofert\n",
    "df_filtered = df[(df[\"Cena\"] >= 1000) & (df[\"Cena\"] <= 2000000)]\n",
    "\n",
    "# usuwam zbędne kolumny - \"Widełki_cenowe\", \"Data_publikacji_oferty\", \"ID\"\n",
    "df_filtered = df_filtered.drop(columns=[\"Widełki_cenowe\", \"Data_publikacji_oferty\", \"ID\"])\n",
    "\n",
    "# usuwam wieksze w których waluta != PLN oraz usuwam zbędną kolumnę\n",
    "df_filtered = df_filtered[df_filtered[\"Waluta\"] == \"PLN\"]\n",
    "df_filtered = df_filtered.drop(columns=[\"Waluta\"])\n",
    "\n",
    "# usuwamy kolumny które mają duzo braków a potencjalnie mały wpływ na cenę\n",
    "df_filtered = df_filtered.drop(columns=[\"Wersja_pojazdu\", \"Generacja_pojazdu\", \"Emisja_CO2\",\"Data_pierwszej_rejestracji\"])\n",
    "\n",
    "# Pierwszy właściciel ma tylko 2 wartości - [nan, 'Yes'] więc zamieniamy je na 0 i 1\n",
    "df_filtered[\"Pierwszy_wlasciciel\"] = df_filtered[\"Pierwszy_wlasciciel\"].notna().astype(int)\n",
    "# df_filtered.info()\n",
    "\n",
    "# Kraj pochodzenia podnosi cenę tylko jeśli to jest Polska więc zamieniamy na 1 dla Polski i 0 dla reszty świata\n",
    "df_filtered[\"Kraj_pochodzenia\"] = (df_filtered[\"Kraj_pochodzenia\"] == \"Poland\").astype(int)\n",
    "\n",
    "# Stan jest ['Used', 'New', nan] więc nan traktujemy jako used\n",
    "df_filtered[\"Stan\"] = (df_filtered[\"Stan\"] == \"New\").astype(int)\n",
    "\n",
    "# Grupujemy marki na premium, srednie i budzetowe\n",
    "df_filtered[\"Segment_marki\"] = df_filtered[\"Marka_pojazdu\"].apply(categorize_brand)\n",
    "# Przypisujemy segmenty marek\n",
    "df_filtered[\"Segment_marki\"] = df_filtered[\"Marka_pojazdu\"].apply(categorize_brand)\n",
    "\n",
    "# df_filtered = pd.get_dummies(df_filtered, columns=[\"Segment_marki\"], dtype=int)\n",
    "# df_filtered.info()\n",
    "# df_filtered['Segment_marki'].value_counts()"
   ]
  },
  {
   "cell_type": "code",
   "execution_count": null,
   "metadata": {},
   "outputs": [],
   "source": []
  }
 ],
 "metadata": {
  "kernelspec": {
   "display_name": "venv",
   "language": "python",
   "name": "python3"
  },
  "language_info": {
   "codemirror_mode": {
    "name": "ipython",
    "version": 3
   },
   "file_extension": ".py",
   "mimetype": "text/x-python",
   "name": "python",
   "nbconvert_exporter": "python",
   "pygments_lexer": "ipython3",
   "version": "3.9.4"
  }
 },
 "nbformat": 4,
 "nbformat_minor": 2
}
