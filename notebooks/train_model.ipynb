{
 "cells": [
  {
   "cell_type": "code",
   "execution_count": 4,
   "id": "c378851e",
   "metadata": {},
   "outputs": [
    {
     "name": "stdout",
     "output_type": "stream",
     "text": [
      "✅ Model wytrenowany! RMSE: 25010.39, R²: 0.92\n",
      "🎯 Model zapisany jako car_price_model.pkl\n"
     ]
    }
   ],
   "source": [
    "import pandas as pd\n",
    "import joblib  # Biblioteka do zapisu modelu\n",
    "from sklearn.model_selection import train_test_split\n",
    "from sklearn.ensemble import RandomForestRegressor\n",
    "from sklearn.metrics import root_mean_squared_error \n",
    "\n",
    "# 1. Wczytaj oczyszczone dane treningowe\n",
    "df_train = pd.read_csv(\"../data/cleaned_train.csv\")\n",
    "\n",
    "# 2. Podział na cechy (X) i cenę (y)\n",
    "X = df_train.drop(columns=[\"Cena\"])  # Wszystkie kolumny oprócz ceny\n",
    "y = df_train[\"Cena\"]\n",
    "\n",
    "# 3. Podział na zbiór treningowy i testowy\n",
    "X_train, X_val, y_train, y_val = train_test_split(X, y, test_size=0.2, random_state=42)\n",
    "\n",
    "# 4. Tworzymy model (np. Random Forest)\n",
    "model = RandomForestRegressor(n_estimators=100, random_state=42)\n",
    "\n",
    "# 5. Trenujemy model\n",
    "model.fit(X_train, y_train)\n",
    "\n",
    "# 6. Ocena modelu\n",
    "y_pred = model.predict(X_val)\n",
    "rmse = root_mean_squared_error(y_val, y_pred)\n",
    "r2 = model.score(X_val, y_val)\n",
    "\n",
    "print(f\"✅ Model wytrenowany! RMSE: {rmse:.2f}, R²: {r2:.2f}\")\n",
    "\n",
    "# 7. Zapisujemy model do pliku\n",
    "joblib.dump(model, \"../models/car_price_model.pkl\")\n",
    "print(\"🎯 Model zapisany jako car_price_model.pkl\")\n"
   ]
  }
 ],
 "metadata": {
  "kernelspec": {
   "display_name": "venv",
   "language": "python",
   "name": "python3"
  },
  "language_info": {
   "codemirror_mode": {
    "name": "ipython",
    "version": 3
   },
   "file_extension": ".py",
   "mimetype": "text/x-python",
   "name": "python",
   "nbconvert_exporter": "python",
   "pygments_lexer": "ipython3",
   "version": "3.9.4"
  }
 },
 "nbformat": 4,
 "nbformat_minor": 5
}
